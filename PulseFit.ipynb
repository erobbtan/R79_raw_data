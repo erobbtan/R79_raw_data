{
 "cells": [
  {
   "cell_type": "code",
   "execution_count": 1,
   "metadata": {},
   "outputs": [
    {
     "name": "stdout",
     "output_type": "stream",
     "text": [
      "Loading modules....\n"
     ]
    },
    {
     "name": "stderr",
     "output_type": "stream",
     "text": [
      "<frozen importlib._bootstrap>:219: RuntimeWarning: numpy.ndarray size changed, may indicate binary incompatibility. Expected 80 from C header, got 96 from PyObject\n",
      "/usr/local/lib/python3.8/dist-packages/awkward0/__init__.py:8: DeprecationWarning: distutils Version classes are deprecated. Use packaging.version instead.\n",
      "  if distutils.version.LooseVersion(numpy.__version__) < distutils.version.LooseVersion(\"1.13.1\"):\n",
      "/data/chocula/test_cdmsbats/root_install/lib/cppyy/__init__.py:72: DeprecationWarning: invalid escape sequence \\d\n",
      "  if re.match('^libcppyy_backend\\d_\\d$', lib_name):\n"
     ]
    },
    {
     "name": "stdout",
     "output_type": "stream",
     "text": [
      "Welcome to JupyROOT 6.24/06\n",
      "modules loaded...\n"
     ]
    }
   ],
   "source": [
    "print('Loading modules....')\n",
    "\n",
    "import os, sys\n",
    "\n",
    "\n",
    "import uproot\n",
    "import numpy as np\n",
    "import matplotlib.pyplot as plt\n",
    "from qetpy.utils import lowpassfilter \n",
    "from qetpy import autocuts\n",
    "import cdms\n",
    "#from CDMSDataCatalog import CDMSDataCatalog\n",
    "import scipy.optimize as optimize\n",
    "import matplotlib as mpl\n",
    "import pickle as pkl\n",
    "import ROOT as rt\n",
    "#import seaborn as sns\n",
    "import operator as op\n",
    "import pandas as pd\n",
    "#from collections import Counter\n",
    "\n",
    "print('modules loaded...')"
   ]
  },
  {
   "cell_type": "code",
   "execution_count": 2,
   "metadata": {},
   "outputs": [
    {
     "data": {
      "text/plain": [
       "True"
      ]
     },
     "execution_count": 2,
     "metadata": {},
     "output_type": "execute_result"
    }
   ],
   "source": [
    "os.path.exists(\"/data/chocula/robbtanner/usr/local/bin/r79-noisefiles\")"
   ]
  },
  {
   "cell_type": "code",
   "execution_count": 3,
   "metadata": {},
   "outputs": [],
   "source": [
    "import cdms"
   ]
  },
  {
   "cell_type": "code",
   "execution_count": 4,
   "metadata": {},
   "outputs": [],
   "source": [
    "#series = ['23231219_184002']\n",
    "series=['07240206_1402']\n",
    "#event_numbers = [42499, 110523, 200199, 203569, 203576, 263548, 322159, 333501, 340031, 340043] #for Z1\n",
    "event_numbers=[2260100.0]\n",
    "#event_numbers = [42778, 60675, 61585, 102412, 111229, 150793, 152887, 190538, 193667, 221976] #for Z3\n",
    "det = 'Z1'\n",
    "detNum = int(det[-1])"
   ]
  },
  {
   "cell_type": "markdown",
   "metadata": {},
   "source": [
    "## Load RQ related quantities"
   ]
  },
  {
   "cell_type": "code",
   "execution_count": 5,
   "metadata": {},
   "outputs": [
    {
     "name": "stdout",
     "output_type": "stream",
     "text": [
      "07240206_1402  :  /data/chocula/spa-u-cdmssoft/rq/07240206_1402/umn_07240206_1402_10Dumps.root\n",
      "Found series =  ['07240206_1402']\n",
      "Loading RQ and Event Tree...\n",
      "done..\n",
      "Loading OF spefic data....\n",
      "Detector =  Z1\n",
      "Done for 07240206_1402..\n",
      "done!\n",
      " Loading Event specific data....\n",
      "07240206_1402 loaded\n",
      "Done!\n"
     ]
    }
   ],
   "source": [
    "#base = '/sdf/group/supercdms/data/CDMS/CUTE/R37/Processed/Tests/CUTE_T3_GeActivation_v1.0.0_V05-00_P0.2./Submerged'\n",
    "base = '/data/chocula/spa-u-cdmssoft/rq'\n",
    "file_prefix = 'CUTE_T3_GeActivation_v1.0.0_V05-00_P0.2.'\n",
    "# if(dataset == 'prompt'):\n",
    "#     base = '/sdf/group/supercdms/data/CDMS/CUTE/R37/Processed/Prompt/Prompt_V04-15_P0.2.1/Submerged'\n",
    "#     file_prefix = 'Prompt_V04-15_P0.2.1'\n",
    "dets = ['Z1']\n",
    "\n",
    "filePath = []\n",
    "found_series = []\n",
    "for ser in series:\n",
    "    \n",
    "    #fp = '%s/%s_%s.root'%(base,file_prefix,ser)\n",
    "    fp = '%s/%s/umn_%s_10Dumps.root'%(base,ser,ser)\n",
    "    if(os.path.exists(fp)):\n",
    "        print(ser,' : ',fp)\n",
    "        filePath.append(fp)\n",
    "        found_series.append(ser)\n",
    "    else:\n",
    "        print('not found: ',fp)\n",
    "series = found_series\n",
    "print('Found series = ',series)\n",
    "\n",
    "\n",
    "print('Loading RQ and Event Tree...')\n",
    "RQ=[]\n",
    "\"\"\"\n",
    "for i,ser in enumerate(series):\n",
    "    RQ.append(uproot.open(filePath[i])['rqDir/zip%d'%(detNum)]) \n",
    "\"\"\"\n",
    "zips = {\n",
    "    'Z1' : 'zip1',\n",
    "    'Z2' : 'zip2',\n",
    "    'Z3' : 'zip3',\n",
    "    'Z4' : 'zip4',\n",
    "    'Z5' : 'zip5',\n",
    "    'Z6' : 'zip6'\n",
    "}\n",
    "for idx,key in enumerate(series):\n",
    "    t = {}\n",
    "    for i,det in enumerate(dets):\n",
    "        t[det] = uproot.open(filePath[idx])['rqDir/%s'%(zips[det])]\n",
    "    RQ.append(t)\n",
    "\n",
    "eventTree=[]\n",
    "for i,ser in enumerate(series):\n",
    "    eventTree.append(uproot.open(filePath[i])['rqDir/eventTree']) \n",
    "\n",
    "print('done..')\n",
    "\n",
    "\n",
    "print('Loading OF spefic data....')\n",
    "#Load RQs from processed files\n",
    "#channels=['PT','PAS1','PBS1','PCS1','PDS1','PES1','PFS1','PAS2','PBS2','PCS2','PDS2','PES2','PFS2']\n",
    "channels = ['PA','PB','PC','PD','PF']#,'PT']\n",
    "\n",
    "OFchiq={}\n",
    "OFamps={}\n",
    "OFdelay={}\n",
    "OFamps0={}\n",
    "OFnorms={}\n",
    "OFbs={}\n",
    "\n",
    "for i,key in enumerate(series): # for each series\n",
    "    ta={}\n",
    "    ta0={}\n",
    "    tc={}\n",
    "    tnorm={}\n",
    "    tbs={}\n",
    "    td={}\n",
    "    for j,det in enumerate(dets):     # for each detector\n",
    "        tta={}\n",
    "        tta0={}\n",
    "        ttc={}\n",
    "        ttnorm={}\n",
    "        ttbs={}\n",
    "        ttd={}\n",
    "#        ttwf40={}\n",
    "#        ttwr40={}\n",
    "#        ttwr100={}\n",
    "#        ttwr20={}\n",
    "#        ttwf80={}\n",
    "#        ttwr80={}\n",
    "#        ttwr50={}\n",
    "#        ttwf20={}\n",
    "        \n",
    "        print('Detector = ',det)\n",
    "        for c in channels:                # for each channel\n",
    "            \n",
    "#             if(det == 'Z3' and c == 'PAS1'):\n",
    "#                 print('\\tSkipping Z3-PAS1...')\n",
    "#                 continue\n",
    "            #print('\\t chan = ',c)\n",
    "            tta[c]=(RQ[i][det][c+\"OFamps\"].array(library='np'))\n",
    "            tta0[c]=(RQ[i][det][c+\"OFamps0\"].array(library='np'))\n",
    "            ttc[c]=(RQ[i][det][c+\"OFchisq\"].array(library='np'))\n",
    "            ttnorm[c]=(RQ[i][det][c+\"norm\"].array(library='np'))\n",
    "            ttd[c]=(RQ[i][det][c+\"OFdelay\"].array(library='np'))\n",
    "            \n",
    "#             tta[c]=(RQ[i][det].array(c+\"OFamps\"))\n",
    "#             tta0[c]=(RQ[i][det].array(c+\"OFamps0\"))\n",
    "#             ttc[c]=(RQ[i][det].array(c+\"OFchisq\"))\n",
    "#             ttint[c]=(RQ[i][det].array(c+\"INTall\"))\n",
    "#             ttd[c]=(RQ[i][det].array(c+\"OFdelay\"))\n",
    "#             ttwf40[c]=(RQ[i][det].array(c+\"WKf40\"))\n",
    "#             ttwr40[c]=(RQ[i][det].array(c+\"WKr40\"))\n",
    "#             ttwr20[c]=(RQ[i][det].array(c+\"WKr20\"))           \n",
    "            if(c!='PT'):\n",
    "                #ttbs[c]=(RQ[i][det].array(c+\"bs\"))\n",
    "                ttbs[c]=(RQ[i][det][c+\"bs\"].array(library='np'))\n",
    "        \n",
    "        ta[det] = tta\n",
    "        ta0[det] = tta0\n",
    "        tc[det] = ttc\n",
    "        tnorm[det] = ttnorm\n",
    "        td[det] = ttd\n",
    "        tbs[det] = ttbs\n",
    "    \n",
    "    OFamps[key]=ta\n",
    "    OFamps0[key]=ta0\n",
    "    OFchiq[key]=tc\n",
    "    OFnorms[key]=tnorm\n",
    "    OFdelay[key]=td\n",
    "    OFbs[key]=tbs\n",
    "    \n",
    "        \n",
    "    print('Done for %s..'%(key))\n",
    "\"\"\"\n",
    "for i,key in enumerate(series):\n",
    "    tc={}\n",
    "    ta={}\n",
    "    td={}\n",
    "    ta0={}\n",
    "    tn = {}\n",
    "    tbs = {}\n",
    "    for c in channels:\n",
    "        if(detNum == '3' and c == 'PAS1'):\n",
    "            print('\\tSkipping Z3-PAS1...')\n",
    "            continue\n",
    "        tc[c]=(RQ[i].array(c+\"OFchisq\"))\n",
    "        ta[c]=(RQ[i].array(c+\"OFamps\"))\n",
    "        ta0[c]=(RQ[i].array(c+\"OFamps0\"))\n",
    "        td[c]=(RQ[i].array(c+\"OFdelay\"))\n",
    "        if(c!='PT'):\n",
    "            tn[c] = (RQ[i].array(c+\"norm\"))\n",
    "            tbs[c] = (RQ[i].array(c+\"bs\"))\n",
    "    OFchiq[key]=tc\n",
    "    OFamps[key]=ta\n",
    "    OFamps0[key]=ta0\n",
    "    OFdelay[key]=td\n",
    "    OFnorms[key]=tn\n",
    "    OFbs[key]=tbs\n",
    "    print('%s loaded'%(key))\n",
    "\"\"\"\n",
    "print('done!')\n",
    "\n",
    "print(' Loading Event specific data....')\n",
    "\n",
    "\n",
    "TriggerTime=[] # Can't find it in UMN event tree. Luckily never used.\n",
    "TriggerType=[] # Same here...\n",
    "EventNumber=[]\n",
    "TrigDet=[] # And here...\n",
    "TriggerMask=[] # And here.\n",
    "EventTime=[]\n",
    "\n",
    "R2 = {} # Radial parameter for S2\n",
    "R1 = {} # Radial parameter for S1\n",
    "amp_diff = {}  \n",
    "amp_diff_abs = {}\n",
    "for i,key in enumerate(series):\n",
    "    #TriggerTime.append(eventTree[i][\"TriggerTime\"].array())#eventTree[i].array(\"TriggerTime\"))\n",
    "    #TriggerType.append(eventTree[i][\"TriggerType\"].array())#eventTree[i].array(\"TriggerType\"))\n",
    "    EventNumber.append(eventTree[i][\"EventNumber\"].array())#eventTree[i].array(\"EventNumber\"))\n",
    "    #TrigDet.append(eventTree[i][\"TriggerDetectorNum\"].array())#eventTree[i].array(\"TriggerDetectorNum\"))\n",
    "    #TriggerMask.append(eventTree[i][\"TriggerMask\"].array())#eventTree[i].array(\"TriggerMask\"))\n",
    "    EventTime.append(eventTree[i][\"EventTime\"].array())#eventTree[i].array(\"EventTime\"))\n",
    "    #R2[key] = OFdelay[key]['PFS2'] - OFdelay[key]['PAS2']\n",
    "    #R1[key] = OFdelay[key]['PFS1'] - OFdelay[key]['PAS1']\n",
    "    #amp_diff[key] = (OFamps[key]['PFS2'] - OFamps[key]['PAS2'])/(OFamps[key]['PFS2'] + OFamps[key]['PAS2'])\n",
    "    #amp_diff_abs[key] = (OFamps[key]['PFS2'] - OFamps[key]['PAS2'])\n",
    "    print('%s loaded'%(key))\n",
    "\n",
    "print('Done!')\n",
    "#/data/chocula/spa-u-cdmssoft/rq/07240206_1402"
   ]
  },
  {
   "cell_type": "code",
   "execution_count": 6,
   "metadata": {},
   "outputs": [
    {
     "name": "stdout",
     "output_type": "stream",
     "text": [
      "done\n"
     ]
    }
   ],
   "source": [
    "'''\n",
    "    Load  OFamps, baseline, and delay for specific events\n",
    "'''\n",
    "\n",
    "proc_of = {}\n",
    "proc_bs = {}\n",
    "proc_delay = {}\n",
    "\n",
    "for idx, key in enumerate(series):\n",
    "    t_of = []\n",
    "    t_bs = []\n",
    "    t_delay = []\n",
    "    for j,det in enumerate(dets):\n",
    "        for enum in event_numbers:\n",
    "            tt_of = {}\n",
    "            tt_bs = {}\n",
    "            tt_delay = {}\n",
    "            for c in channels:\n",
    "                if(c != 'PT'):\n",
    "                    tt_bs[c] = ((OFbs[key][det][c][EventNumber[idx] == enum]))\n",
    "                tt_of[c] = ((OFamps[key][det][c][EventNumber[idx] == enum]))\n",
    "            \n",
    "                tt_delay[c] = ((OFdelay[key][det][c][EventNumber[idx] == enum]))\n",
    "            t_of.append(tt_of)\n",
    "            t_bs.append(tt_bs)\n",
    "            t_delay.append(tt_delay)\n",
    "    proc_of[key] = t_of\n",
    "    proc_bs[key] = t_bs\n",
    "    proc_delay[key] = t_delay\n",
    "print('done')"
   ]
  },
  {
   "cell_type": "code",
   "execution_count": 7,
   "metadata": {},
   "outputs": [
    {
     "data": {
      "text/plain": [
       "2260000.0"
      ]
     },
     "execution_count": 7,
     "metadata": {},
     "output_type": "execute_result"
    }
   ],
   "source": [
    "EventNumber[0][0]"
   ]
  },
  {
   "cell_type": "code",
   "execution_count": 8,
   "metadata": {},
   "outputs": [
    {
     "data": {
      "text/plain": [
       "{'Z1': {'PA': array([7911.91836735, 7898.06122449, 7899.4744898 , ..., 7921.25765306,\n",
       "         7915.72193878, 7915.98214286]),\n",
       "  'PB': array([5649.3622449 , 5634.43877551, 5635.19642857, ..., 5661.57397959,\n",
       "         5656.20663265, 5656.17602041]),\n",
       "  'PC': array([2911.18367347, 2888.22193878, 2888.2627551 , ..., 2921.47959184,\n",
       "         2916.85714286, 2915.2755102 ]),\n",
       "  'PD': array([8147.11989796, 8131.78061224, 8132.94132653, ..., 8163.21938776,\n",
       "         8155.96938776, 8157.16836735]),\n",
       "  'PF': array([6194.93112245, 6182.99744898, 6182.50510204, ..., 6208.33928571,\n",
       "         6204.86479592, 6203.85204082])}}"
      ]
     },
     "execution_count": 8,
     "metadata": {},
     "output_type": "execute_result"
    }
   ],
   "source": [
    "OFbs['07240206_1402']"
   ]
  },
  {
   "cell_type": "markdown",
   "metadata": {},
   "source": [
    "## Load Noise file to get templates"
   ]
  },
  {
   "cell_type": "code",
   "execution_count": 9,
   "metadata": {},
   "outputs": [
    {
     "name": "stdout",
     "output_type": "stream",
     "text": [
      "False\n",
      "Files loaded...\n",
      "Templates laoded as histograms...\n",
      "Templates loaded as dict...\n"
     ]
    }
   ],
   "source": [
    "'''\n",
    "    Get noise info from BatNoise file\n",
    "'''\n",
    "zips = {\n",
    "    'Z1' : 'zip1',\n",
    "    'Z2' : 'zip2',\n",
    "    'Z3' : 'zip3',\n",
    "    'Z4' : 'zip4',\n",
    "    'Z5' : 'zip5',\n",
    "    'Z6' : 'zip6'\n",
    "}\n",
    "noisebase=\"/data/chocula/robbtanner/usr/local/bin/r79-noisefiles\" #my kernel doesn't see spa-u-cdmssoft :(\n",
    "#noisebase=\"/home/spa-u-cdmssoft/noisefiles\"\n",
    "noisefile_prefix=\"umn_Filter\"\n",
    "#umn_Filter_07240206_1402.root\n",
    "#noisebase = '/sdf/group/supercdms/data/CDMS/CUTE/R37/Processed/Tests/CUTE_T3_GeActivation_v1.0.0_V05-00_P0.2./Noise'\n",
    "#noisefile_prefix = 'CUTE_T3_GeActivation_v1.0.0_V05-00_P0.2._Filter'\n",
    "import os\n",
    "print(os.path.exists(\"/home/spa-u-cdmssoft\"))\n",
    "\n",
    "noisefile = []\n",
    "for i,key in enumerate(series):\n",
    "    path = '%s/%s_%s.root'%(noisebase,noisefile_prefix,key)\n",
    "    file = rt.TFile.Open(path)\n",
    "    if(not file):\n",
    "        print('Couldnt open %s'%(path))\n",
    "    noisefile.append(file)    \n",
    "\n",
    "print('Files loaded...')\n",
    "\n",
    "template_hist = {}\n",
    "for i, key in enumerate(series):\n",
    "    th = {}\n",
    "    for c in channels:\n",
    "        if(det=='Z3' and c=='PAS1'):\n",
    "            continue\n",
    "        temp = noisefile[i].Get('%s/%sTemplateTime'%(zips[det],c))\n",
    "        if(not temp):\n",
    "            print('NULL for %s : %s'%(key,c))\n",
    "        th[c] = temp\n",
    "    template_hist[key] = th\n",
    "print('Templates laoded as histograms...')\n",
    "\n",
    "template = {}\n",
    "for i, key in enumerate(series):\n",
    "    tarr = {}\n",
    "    for c in channels:\n",
    "        if(det=='Z3' and c=='PAS1'):\n",
    "            continue\n",
    "        bincenter = []\n",
    "        bincontent = []\n",
    "        #bincontent = [temp.GetBinContent(j) for j in temp.GetNbinsX()]\n",
    "        temp = template_hist[key][c]\n",
    "        for j in range(temp.GetNbinsX()):\n",
    "            bincenter.append(temp.GetBinCenter(j))\n",
    "            bincontent.append(temp.GetBinContent(j))\n",
    "        tarr[c] = bincontent\n",
    "    template[key] = tarr\n",
    "\n",
    "print('Templates loaded as dict...')"
   ]
  },
  {
   "cell_type": "code",
   "execution_count": 17,
   "metadata": {},
   "outputs": [
    {
     "data": {
      "text/plain": [
       "[<matplotlib.lines.Line2D at 0x7f4b584f3490>]"
      ]
     },
     "execution_count": 17,
     "metadata": {},
     "output_type": "execute_result"
    },
    {
     "data": {
      "image/png": "[encoded data removed]",
      "text/plain": [
       "<Figure size 640x480 with 1 Axes>"
      ]
     },
     "metadata": {},
     "output_type": "display_data"
    }
   ],
   "source": [
    "plt.plot(template['07240206_1402'][\"PB\"])"
   ]
  },
  {
   "cell_type": "markdown",
   "metadata": {},
   "source": [
    "## Load raw traces\n",
    "* Change the values in the cell below accroding to the detector (UMN detectors have different settings)"
   ]
  },
  {
   "cell_type": "code",
   "execution_count": 10,
   "metadata": {},
   "outputs": [],
   "source": [
    "Rshunt = 5.0e-3 # shunt resistance\n",
    "Rfb = 5000.0 # feedback resistance\n",
    "ADCperVolt = 65536.0/8.0 # the number of ADC bins per V for the readout\n",
    "LoopRatio = 2.4 # SQUID turn ratio \n",
    "low_pass_filter = False\n",
    "high_cutoff, fs, order = 100000, 625000, 2\n",
    "trace_length = 1.6 # uS\n",
    "bins = 32768\n",
    "rawfilepath=\"/data/chocula/fritts/data/k100proc/midasraw/byseries\"#'/sdf/group/supercdms/data/CDMS/CUTE/R37/Raw/'\n",
    "channels = ['PA','PB','PC','PD',\"PF\"]#,'PT'\n",
    "#channels=['PT','PAS1','PBS1','PCS1','PDS1','PES1','PFS1','PAS2','PBS2','PCS2','PDS2','PES2','PFS2']\n",
    "#\"/data/chocula/fritts/data/k100proc/midasraw/byseries/07240206_1402\""
   ]
  },
  {
   "cell_type": "code",
   "execution_count": 22,
   "metadata": {},
   "outputs": [],
   "source": [
    "nSamples=4096\n",
    "time = np.arange(nSamples,dtype=np.float64)\n",
    "sf = 1.25e6\n",
    "samplelength = 1/sf\n",
    "time2 = time*samplelength\n",
    "ADCperVolt = 16384./2.5\n",
    "LoopGain = 10000 # Phonon feeback gain (=10 (input/fb turn ratio) * 1000 Ohm fb resistor)\n",
    "DG = 20 # driver gain\n",
    "scale = ADCperVolt*LoopGain"
   ]
  },
  {
   "cell_type": "code",
   "execution_count": 12,
   "metadata": {
    "scrolled": true
   },
   "outputs": [],
   "source": [
    "#x=cdms.rawio.IO.RawDataReader(rawfilepath,\"07240206_1402\",verbose=False).read_events(dump_nums=1,output_format=2)"
   ]
  },
  {
   "cell_type": "code",
   "execution_count": 13,
   "metadata": {},
   "outputs": [],
   "source": [
    "#y=cdms.rawio.IO.RawDataReader(rawfilepath,\"07240206_1402\",verbose=False).read_events_info(dump_nums=1)"
   ]
  },
  {
   "cell_type": "code",
   "execution_count": 14,
   "metadata": {},
   "outputs": [
    {
     "data": {
      "text/plain": [
       "'for i in range(len(y)):\\n    good=False\\n    for j in range(len(x)):\\n        if y[i][\"event\"][\"EventNumber\"]==x[j][\"event\"][\"EventNumber\"]:\\n            good=True\\n    if not good:\\n        print(\"BAD:\",i,y[i][\"event\"][\"EventNumber\"])'"
      ]
     },
     "execution_count": 14,
     "metadata": {},
     "output_type": "execute_result"
    }
   ],
   "source": [
    "\"\"\"for i in range(len(y)):\n",
    "    good=False\n",
    "    for j in range(len(x)):\n",
    "        if y[i][\"event\"][\"EventNumber\"]==x[j][\"event\"][\"EventNumber\"]:\n",
    "            good=True\n",
    "    if not good:\n",
    "        print(\"BAD:\",i,y[i][\"event\"][\"EventNumber\"])\"\"\""
   ]
  },
  {
   "cell_type": "code",
   "execution_count": 15,
   "metadata": {},
   "outputs": [
    {
     "data": {
      "text/plain": [
       "'for i in range(2170,2180):\\n    if i==2175:\\n        print(\"qwerty\",end=\"\")\\n    print(y[i][\"trigger_veto\"][\"Z5\"][\"ReadoutStatus\"])'"
      ]
     },
     "execution_count": 15,
     "metadata": {},
     "output_type": "execute_result"
    }
   ],
   "source": [
    "\"\"\"for i in range(2170,2180):\n",
    "    if i==2175:\n",
    "        print(\"qwerty\",end=\"\")\n",
    "    print(y[i][\"trigger_veto\"][\"Z5\"][\"ReadoutStatus\"])\"\"\""
   ]
  },
  {
   "cell_type": "code",
   "execution_count": 19,
   "metadata": {},
   "outputs": [],
   "source": [
    "channel_mappings={\"PA\":[\"Z3\",\"PB\"],\"PB\":[\"Z3\",\"PA\"],\"PC\":[\"Z1\",\"PA\"],\"PD\":[\"Z3\",\"PD\"],\"PF\":[\"Z1\",\"PB\"]}"
   ]
  },
  {
   "cell_type": "code",
   "execution_count": 18,
   "metadata": {
    "scrolled": false
   },
   "outputs": [
    {
     "name": "stdout",
     "output_type": "stream",
     "text": [
      "The file is: /data/chocula/fritts/data/k100proc/midasraw/byseries/07240206_1402/07240206_1402_F0226.mid.gz\n",
      "\n",
      "Opened raw midas file: /data/chocula/fritts/data/k100proc/midasraw/byseries/07240206_1402/07240206_1402_F0226.mid.gz\n"
     ]
    }
   ],
   "source": [
    "#y[\"event\"][\"EventNumber\"]\n",
    "# Channel -> Event Number -> Pulse\n",
    "dumps_list=list(range(51,100))\n",
    "import time\n",
    "raw_data={\"PA\":{},\"PB\":{},\"PC\":{},\"PD\":{},\"PE\":{},\"PF\":{}}\n",
    "series=\"07240206_1402\"\n",
    "#fname = './rawdata/%s_raw_data_51_to_100'%(series)\n",
    "#print(\"Loading saved data...\")\n",
    "#with open(fname+\"_50.pkl\",\"rb\") as f:\n",
    "#    raw_data=pkl.load(f)\n",
    "dump_data=cdms.rawio.IO.RawDataReader(rawfilepath,series,verbose=False).read_events(event_nums=2260790,output_format=2,skip_empty=True)\n",
    "\"\"\"start_time=time.time()\n",
    "pickle_time=start_time\n",
    "last_pickled_dump=0\n",
    "warn_num=0\n",
    "for i,dump in enumerate(dumps_list):\n",
    "    print(\"Processing Dump\",dump)\n",
    "    last_time=int(time.time())\n",
    "    dump_data=cdms.rawio.IO.RawDataReader(rawfilepath,series,verbose=False).read_events(dump_nums=dump,output_format=2)\n",
    "    print(\"Data Read! Entering into dictionary...\")\n",
    "    for event in dump_data:\n",
    "        if event[\"event\"][\"EventNumber\"] in raw_data[\"PA\"].keys():\n",
    "            if warn_num<20:\n",
    "                print(\"Warning: event number\",event[\"event\"][\"EventNumber\"],\"is getting overwritten!\")\n",
    "            elif warn_num==20:\n",
    "                print(\"Supressing further warnings.\")\n",
    "            warn_num+=1\n",
    "        for key in channel_mappings:\n",
    "            raw_data[key][event[\"event\"][\"EventNumber\"]]=event[channel_mappings[key][0]][channel_mappings[key][1]]\n",
    "    print(\"Entered!\")\n",
    "    \n",
    "    if (time.time()-pickle_time)>10*60:\n",
    "        print(\"10 minutes since last pickle dump. Dumping...\")\n",
    "        with open(fname+\"_\"+str(dump)+\".pkl\",\"wb\") as f:\n",
    "            pkl.dump(raw_data, f)\n",
    "        pickle_time=time.time()\n",
    "        last_pickled_dump=dump\n",
    "    \n",
    "    print(\"Done! This dump took\",int(time.time())-last_time,\"seconds. Expect this process to finish in\"\\\n",
    "          ,round((1/60)*(time.time()-start_time)/(i+1)*(len(dumps_list)-i-1),1),\"minutes.\\nThe last pickled dump is dump\",last_pickled_dump)\n",
    "print(\"Done! Finished with\",warn_num,\"warnings. Saving Pickle...\")\n",
    "with open(fname+\".pkl\",\"wb\") as f:\n",
    "    pkl.dump(raw_data, f)\n",
    "print(\"Done.\")\"\"\"\n",
    "print(\"\",end=\"\")"
   ]
  },
  {
   "cell_type": "code",
   "execution_count": 17,
   "metadata": {},
   "outputs": [],
   "source": [
    "import statistics as st\n",
    "def isRailed(v):\n",
    "    if(np.isnan(v).any()):\n",
    "        return True\n",
    "    if(st.mode(v)==0):\n",
    "        return True\n",
    "    return False\n",
    "def eventShift(pdir=rawfilepath,s=series,ev=None):\n",
    "\n",
    "    dumps=(ev-ev%10000)/10000\n",
    "    dumps=dumps.astype(int)\n",
    "    udumps=np.unique(dumps)\n",
    "    print(udumps)\n",
    "\n",
    "    dumpdict=dict()\n",
    "\n",
    "    for d in udumps:\n",
    "        theseev = np.sort(ev[dumps==d])\n",
    "        dumpdict[d]=theseev\n",
    "        #make an event number vector that has all events up to the max\n",
    "        fullev=[]\n",
    "        #for i in np.arange(d*10000,d*10000+9999):\n",
    "        #for i in np.arange(d*10000,np.max(theseev)+1):\n",
    "        #    fullev.extend([i])\n",
    "\n",
    "        #print(fullev)\n",
    "        #events=io.getRawEvents(pdir,series,eventNumbers=fullev)\n",
    "        myreader = cdms.rawio.IO.RawDataReader(filepath=pdir, series=s) \n",
    "        events =  myreader.read_events(dump_nums=[d], output_format=2, skip_empty=True)\n",
    "        railed=[]\n",
    "        #for oneev in events:\n",
    "        #    fullev.append(oneev[\"event\"][\"EventNumber\"])\n",
    "        \n",
    "        print(dumpdict)\n",
    "        for oneev in events:\n",
    "            #intseries=np.char.replace(series,'_','')\n",
    "            #intseries=int(intseries)\n",
    "            #print(intseries)\n",
    "            #print(events['Z1']['PA'][intseries,j])\n",
    "            if isRailed(oneev['Z1']['PA']):\n",
    "                railed.extend([j])\n",
    "\n",
    "        railed=np.asarray(railed)\n",
    "        print(np.shape(railed)) \n",
    "        shifts=[]\n",
    "        for e in theseev:\n",
    "            shifts.extend([np.sum(railed<=e)])\n",
    "\n",
    "        print(shifts)"
   ]
  },
  {
   "cell_type": "code",
   "execution_count": 18,
   "metadata": {},
   "outputs": [
    {
     "name": "stdout",
     "output_type": "stream",
     "text": [
      "[226]\n",
      "INFO: Found 241 midas raw data files\n",
      "INFO: Found 1 midas raw data files\n",
      "{226: array([2260790])}\n",
      "(0,)\n",
      "[0]\n",
      "The file is: /data/chocula/fritts/data/k100proc/midasraw/byseries/07240206_1402/07240206_1402_F0226.mid.gz\n",
      "\n",
      "Opened raw midas file: /data/chocula/fritts/data/k100proc/midasraw/byseries/07240206_1402/07240206_1402_F0226.mid.gz\n"
     ]
    }
   ],
   "source": [
    "eventShift(ev=np.array([2260790]))"
   ]
  },
  {
   "cell_type": "code",
   "execution_count": 20,
   "metadata": {},
   "outputs": [
    {
     "data": {
      "text/plain": [
       "[<matplotlib.lines.Line2D at 0x7f4b58586730>]"
      ]
     },
     "execution_count": 20,
     "metadata": {},
     "output_type": "execute_result"
    },
    {
     "data": {
      "image/png": "[encoded data removed]",
      "text/plain": [
       "<Figure size 640x480 with 1 Axes>"
      ]
     },
     "metadata": {},
     "output_type": "display_data"
    }
   ],
   "source": [
    "plt.plot(dump_data[0][\"Z3\"][\"PB\"])"
   ]
  },
  {
   "cell_type": "code",
   "execution_count": 19,
   "metadata": {},
   "outputs": [
    {
     "data": {
      "text/plain": [
       "True"
      ]
     },
     "execution_count": 19,
     "metadata": {},
     "output_type": "execute_result"
    }
   ],
   "source": [
    "d={\"a\":1,\"b\":2}\n",
    "\"a\" in d.keys()"
   ]
  },
  {
   "cell_type": "code",
   "execution_count": 15,
   "metadata": {},
   "outputs": [],
   "source": [
    "channel_mappings={\"PA\":[\"Z3\",\"PB\"],\"PB\":[\"Z3\",\"PA\"],\"PC\":[\"Z1\",\"PA\"],\"PD\":[\"Z3\",\"PD\"],\"PE\":None,\"PF\":[\"Z1\",\"PB\"]}"
   ]
  },
  {
   "cell_type": "code",
   "execution_count": 16,
   "metadata": {},
   "outputs": [
    {
     "name": "stdout",
     "output_type": "stream",
     "text": [
      "PA\n",
      "PB\n",
      "PC\n",
      "PD\n",
      "PE\n",
      "PF\n"
     ]
    }
   ],
   "source": [
    "raw_directory=\"./rawdata/\"\n",
    "for key in channel_mappings:\n",
    "    print(k)"
   ]
  },
  {
   "cell_type": "code",
   "execution_count": 13,
   "metadata": {},
   "outputs": [
    {
     "data": {
      "text/plain": [
       "Text(0.5, 1.0, 'Example Event, series=07240206_1402, dump number=124')"
      ]
     },
     "execution_count": 13,
     "metadata": {},
     "output_type": "execute_result"
    },
    {
     "data": {
      "image/png": "[encoded data removed]",
      "text/plain": [
       "<Figure size 640x480 with 1 Axes>"
      ]
     },
     "metadata": {},
     "output_type": "display_data"
    }
   ],
   "source": [
    "i=3\n",
    "plt.plot(x[\"Z3\"][\"PB\"].array[i]-np.min(x[\"Z3\"][\"PB\"].array[i]),alpha=1,label=\"side2 pa\")\n",
    "plt.plot(x[\"Z3\"][\"PA\"].array[i]-np.min(x[\"Z3\"][\"PA\"].array[i]),alpha=1,label=\"side2 pb\")\n",
    "plt.plot(x[\"Z1\"][\"PA\"].array[i]-np.min(x[\"Z1\"][\"PA\"].array[i]),alpha=1,label=\"side2 pc\")\n",
    "plt.plot(x[\"Z3\"][\"PD\"].array[i]-np.min(x[\"Z3\"][\"PD\"].array[i]),alpha=1,label=\"side2 pd\")\n",
    "plt.plot(x[\"Z1\"][\"PB\"].array[i]-np.min(x[\"Z1\"][\"PB\"].array[i]),alpha=1,label=\"side2 pf\")\n",
    "\n",
    "#plt.plot(x[\"Z1\"][\"PC\"].array[i]-np.median(x[\"Z1\"][\"PC\"].array[i]),alpha=1,label=\"side1 pc\")\n",
    "#plt.plot(x[\"Z1\"][\"PD\"].array[i]-np.median(x[\"Z1\"][\"PD\"].array[i]),alpha=1,label=\"side1 pd\")\n",
    "#plt.plot(x[\"Z3\"][\"PC\"].array[i]-np.median(x[\"Z3\"][\"PC\"].array[i]),alpha=1,label=\"side1 pb\")\n",
    "\n",
    "#plt.plot(x[\"Z1\"][\"QI\"].array[i]-np.median(x[\"Z1\"][\"QI\"].array[i]),alpha=0.5,label=\"QI subracted by its median\")\n",
    "#plt.plot(x[\"Z1\"][\"QO\"].array[i]-np.median(x[\"Z1\"][\"QO\"].array[i]),alpha=0.5,label=\"QO subracted by its median\")\n",
    "plt.legend()\n",
    "plt.ylabel(\"ADC Units\")\n",
    "plt.xlabel(\"Sample Number\")\n",
    "plt.title(\"Example Event, series=07240206_1402, dump number=124\")\n",
    "#plt.plot(x[\"Z1\"][\"PF\"].array[3]-np.median(x[\"Z1\"][\"PF\"].array[3]))\n",
    "#np.median(x[\"Z1\"][\"QO\"].array[i])"
   ]
  },
  {
   "cell_type": "markdown",
   "metadata": {},
   "source": [
    "### Make sure to create a `rawdata` directory. The pulses will be dumped to this directory in pickle format so that you don't have to load the data from midas file again and again which takes time."
   ]
  },
  {
   "cell_type": "code",
   "execution_count": 48,
   "metadata": {},
   "outputs": [],
   "source": [
    "nSamples=4096\n",
    "time = np.arange(nSamples,dtype=np.float64)\n",
    "sf = 1.25e6\n",
    "samplelength = 1/sf\n",
    "time2 = time*samplelength\n",
    "ADCperVolt = 16384./2.5\n",
    "LoopGain = 10000 # Phonon feeback gain (=10 (input/fb turn ratio) * 1000 Ohm fb resistor)\n",
    "DG = 20 # driver gain\n",
    "scale = ADCperVolt*LoopGain\n",
    "bins = 4096"
   ]
  },
  {
   "cell_type": "code",
   "execution_count": 24,
   "metadata": {},
   "outputs": [
    {
     "name": "stdout",
     "output_type": "stream",
     "text": [
      "No pickle file available. Loading traces... \n"
     ]
    },
    {
     "ename": "ValueError",
     "evalue": "ERROR: No midas raw data files found!",
     "output_type": "error",
     "traceback": [
      "\u001b[0;31m---------------------------------------------------------------------------\u001b[0m",
      "\u001b[0;31mValueError\u001b[0m                                Traceback (most recent call last)",
      "Cell \u001b[0;32mIn[24], line 20\u001b[0m\n\u001b[1;32m     17\u001b[0m \u001b[38;5;28;01melse\u001b[39;00m:\n\u001b[1;32m     18\u001b[0m     \u001b[38;5;28mprint\u001b[39m(\u001b[38;5;124m'\u001b[39m\u001b[38;5;124mNo pickle file available. Loading traces... \u001b[39m\u001b[38;5;124m'\u001b[39m)\n\u001b[0;32m---> 20\u001b[0m     t_rd[c] \u001b[38;5;241m=\u001b[39m \u001b[43mcdms\u001b[49m\u001b[38;5;241;43m.\u001b[39;49m\u001b[43mrawio\u001b[49m\u001b[38;5;241;43m.\u001b[39;49m\u001b[43mIO\u001b[49m\u001b[38;5;241;43m.\u001b[39;49m\u001b[43mgetRawEvents\u001b[49m\u001b[43m(\u001b[49m\u001b[43mrawfilepath\u001b[49m\u001b[43m,\u001b[49m\u001b[38;5;124;43m'\u001b[39;49m\u001b[38;5;124;43m/\u001b[39;49m\u001b[38;5;124;43m'\u001b[39;49m\u001b[38;5;241;43m+\u001b[39;49m\u001b[43mkey\u001b[49m\u001b[43m,\u001b[49m\u001b[43moutputFormat\u001b[49m\u001b[43m \u001b[49m\u001b[38;5;241;43m=\u001b[39;49m\u001b[43m \u001b[49m\u001b[38;5;241;43m2\u001b[39;49m\u001b[43m,\u001b[49m\u001b[43m \u001b[49m\u001b[43meventNumbers\u001b[49m\u001b[38;5;241;43m=\u001b[39;49m\u001b[43mevent_numbers\u001b[49m\u001b[43m,\u001b[49m\u001b[43m \u001b[49m\n\u001b[1;32m     21\u001b[0m \u001b[43m                                           \u001b[49m\u001b[43mchannelList\u001b[49m\u001b[38;5;241;43m=\u001b[39;49m\u001b[43m[\u001b[49m\u001b[43mc\u001b[49m\u001b[43m]\u001b[49m\u001b[43m,\u001b[49m\u001b[43m \u001b[49m\u001b[43mdetectorList\u001b[49m\u001b[38;5;241;43m=\u001b[39;49m\u001b[43m[\u001b[49m\u001b[43mdetNum\u001b[49m\u001b[43m]\u001b[49m\u001b[43m,\u001b[49m\u001b[43m \u001b[49m\u001b[43mverbose\u001b[49m\u001b[38;5;241;43m=\u001b[39;49m\u001b[38;5;28;43;01mTrue\u001b[39;49;00m\u001b[43m)\u001b[49m\n\u001b[1;32m     22\u001b[0m     pkl\u001b[38;5;241m.\u001b[39mdump(t_rd[c], \u001b[38;5;28mopen\u001b[39m(fname, \u001b[38;5;124m\"\u001b[39m\u001b[38;5;124mwb\u001b[39m\u001b[38;5;124m\"\u001b[39m))\n\u001b[1;32m     24\u001b[0m     \u001b[38;5;28mprint\u001b[39m(\u001b[38;5;124m'\u001b[39m\u001b[38;5;124mpkl file loaded for \u001b[39m\u001b[38;5;132;01m%s\u001b[39;00m\u001b[38;5;124m'\u001b[39m\u001b[38;5;241m%\u001b[39m(c))\n",
      "File \u001b[0;32m/usr/local/lib/python3.8/dist-packages/rawio/IO.py:2277\u001b[0m, in \u001b[0;36mgetRawEvents\u001b[0;34m(filepath, files_series, eventNumbers, channelList, detectorList, outputFormat, maxNumEvents, skipEmptyEvents, verbose)\u001b[0m\n\u001b[1;32m   2273\u001b[0m         \u001b[38;5;28;01mif\u001b[39;00m (os\u001b[38;5;241m.\u001b[39mpath\u001b[38;5;241m.\u001b[39misdir(dir_name) \u001b[38;5;129;01mor\u001b[39;00m \n\u001b[1;32m   2274\u001b[0m             os\u001b[38;5;241m.\u001b[39mpath\u001b[38;5;241m.\u001b[39misfile(dir_name)):\n\u001b[1;32m   2275\u001b[0m             filelist\u001b[38;5;241m.\u001b[39mappend(dir_name)\n\u001b[0;32m-> 2277\u001b[0m myreader \u001b[38;5;241m=\u001b[39m \u001b[43mRawDataReader\u001b[49m\u001b[43m(\u001b[49m\u001b[43mfilepath\u001b[49m\u001b[38;5;241;43m=\u001b[39;49m\u001b[43mfilelist\u001b[49m\u001b[43m,\u001b[49m\u001b[43m \u001b[49m\u001b[43mverbose\u001b[49m\u001b[38;5;241;43m=\u001b[39;49m\u001b[43mverbose\u001b[49m\u001b[43m)\u001b[49m\n\u001b[1;32m   2278\u001b[0m events \u001b[38;5;241m=\u001b[39m myreader\u001b[38;5;241m.\u001b[39mread_events(event_nums\u001b[38;5;241m=\u001b[39meventNumbers, \n\u001b[1;32m   2279\u001b[0m                               channel_names\u001b[38;5;241m=\u001b[39mchannelList, \n\u001b[1;32m   2280\u001b[0m                               detector_nums\u001b[38;5;241m=\u001b[39mdetectorList, \n\u001b[0;32m   (...)\u001b[0m\n\u001b[1;32m   2283\u001b[0m                               skip_empty\u001b[38;5;241m=\u001b[39mskipEmptyEvents,\n\u001b[1;32m   2284\u001b[0m                               df_eventnumber_index\u001b[38;5;241m=\u001b[39m\u001b[38;5;28;01mTrue\u001b[39;00m)\n\u001b[1;32m   2286\u001b[0m \u001b[38;5;28;01mreturn\u001b[39;00m events\n",
      "File \u001b[0;32m/usr/local/lib/python3.8/dist-packages/rawio/IO.py:90\u001b[0m, in \u001b[0;36mRawDataReader.__init__\u001b[0;34m(self, filepath, series, dump_nums, odb_file_num, max_nb_events_per_file, verbose)\u001b[0m\n\u001b[1;32m     88\u001b[0m \u001b[38;5;28mself\u001b[39m\u001b[38;5;241m.\u001b[39m_file_list \u001b[38;5;241m=\u001b[39m \u001b[38;5;28;01mNone\u001b[39;00m\n\u001b[1;32m     89\u001b[0m \u001b[38;5;28;01mif\u001b[39;00m filepath \u001b[38;5;129;01mis\u001b[39;00m \u001b[38;5;129;01mnot\u001b[39;00m \u001b[38;5;28;01mNone\u001b[39;00m:\n\u001b[0;32m---> 90\u001b[0m     \u001b[38;5;28mself\u001b[39m\u001b[38;5;241m.\u001b[39m_file_list \u001b[38;5;241m=\u001b[39m \u001b[38;5;28;43mself\u001b[39;49m\u001b[38;5;241;43m.\u001b[39;49m\u001b[43m_get_filelist\u001b[49m\u001b[43m(\u001b[49m\u001b[43mfilepath\u001b[49m\u001b[43m,\u001b[49m\u001b[43m \u001b[49m\n\u001b[1;32m     91\u001b[0m \u001b[43m                                         \u001b[49m\u001b[43mseries\u001b[49m\u001b[38;5;241;43m=\u001b[39;49m\u001b[38;5;28;43mself\u001b[39;49m\u001b[38;5;241;43m.\u001b[39;49m\u001b[43m_series\u001b[49m\u001b[43m,\u001b[49m\n\u001b[1;32m     92\u001b[0m \u001b[43m                                         \u001b[49m\u001b[43mdump_nums\u001b[49m\u001b[38;5;241;43m=\u001b[39;49m\u001b[43mdump_nums\u001b[49m\u001b[43m)\u001b[49m\n\u001b[1;32m     94\u001b[0m \u001b[38;5;66;03m# odb file to be used\u001b[39;00m\n\u001b[1;32m     95\u001b[0m \u001b[38;5;28mself\u001b[39m\u001b[38;5;241m.\u001b[39m_odb_file_num \u001b[38;5;241m=\u001b[39m odb_file_num\n",
      "File \u001b[0;32m/usr/local/lib/python3.8/dist-packages/rawio/IO.py:2148\u001b[0m, in \u001b[0;36mRawDataReader._get_filelist\u001b[0;34m(self, filepath, series, dump_nums)\u001b[0m\n\u001b[1;32m   2146\u001b[0m \u001b[38;5;66;03m# check if empty\u001b[39;00m\n\u001b[1;32m   2147\u001b[0m \u001b[38;5;28;01mif\u001b[39;00m \u001b[38;5;129;01mnot\u001b[39;00m file_list:\n\u001b[0;32m-> 2148\u001b[0m     \u001b[38;5;28;01mraise\u001b[39;00m \u001b[38;5;167;01mValueError\u001b[39;00m(\u001b[38;5;124m'\u001b[39m\u001b[38;5;124mERROR: No midas raw data files found!\u001b[39m\u001b[38;5;124m'\u001b[39m)\n\u001b[1;32m   2150\u001b[0m \u001b[38;5;66;03m# unique\u001b[39;00m\n\u001b[1;32m   2151\u001b[0m file_list \u001b[38;5;241m=\u001b[39m \u001b[38;5;28mlist\u001b[39m(\u001b[38;5;28mset\u001b[39m(file_list))\n",
      "\u001b[0;31mValueError\u001b[0m: ERROR: No midas raw data files found!"
     ]
    }
   ],
   "source": [
    "\n",
    "data = {}\n",
    "raw_data = {}\n",
    "for idx, key in enumerate(series):\n",
    "    c = 'PT'\n",
    "    t_rd = {}\n",
    "    \n",
    "    for c in channels:\n",
    "        fname = './rawdata/%s_%s_%s_1kev_elliott.pkl'%(key,det,c)\n",
    "        if(c=='PT'):\n",
    "            continue\n",
    "        #event_number[c] = EventNumber[idx][cut][:10]\n",
    "        if(det == 'Z3' and c == 'PAS1'):\n",
    "            continue\n",
    "        if os.path.exists(fname):\n",
    "            t_rd[c] = pkl.load(open(fname, \"rb\"))\n",
    "            print('pkl file loaded for %s'%(c))\n",
    "        else:\n",
    "            print('No pickle file available. Loading traces... ')\n",
    "            \n",
    "            t_rd[c] = cdms.rawio.IO.getRawEvents(rawfilepath,'/'+key,outputFormat = 2, eventNumbers=event_numbers, \n",
    "                                                   channelList=[c], detectorList=[detNum], verbose=True)\n",
    "            pkl.dump(t_rd[c], open(fname, \"wb\"))\n",
    "            \n",
    "            print('pkl file loaded for %s'%(c))\n",
    "    raw_data[key] = t_rd\n",
    "    print('Raw traces [ADC] loaded...')\n",
    "    \n",
    "\n"
   ]
  },
  {
   "cell_type": "code",
   "execution_count": 41,
   "metadata": {},
   "outputs": [],
   "source": [
    "series = ['07240206_1402']"
   ]
  },
  {
   "cell_type": "code",
   "execution_count": 56,
   "metadata": {},
   "outputs": [
    {
     "name": "stdout",
     "output_type": "stream",
     "text": [
      "Now converting into amps...\n",
      "0\n",
      "-------- 07240206_1402 : Traces coverted to Amps for channel -------------\n",
      "all done\n"
     ]
    }
   ],
   "source": [
    "'''\n",
    "    Convert traces from ADC to uA\n",
    "'''\n",
    "raw_data=dump_data\n",
    "data = {}\n",
    "detNum = int(det[-1])\n",
    "adc2ua = {}\n",
    "det = 'Z3'\n",
    "for idx, key in enumerate(series):\n",
    "    print('Now converting into amps...')\n",
    "    t_adc2uA = {}\n",
    "    t_d = {}\n",
    "    t_rd = raw_data[idx]\n",
    "    print(idx)\n",
    "    for c in channels:\n",
    "        if(c=='PT' or c=='PF'):\n",
    "            continue\n",
    "        \n",
    "        temp = []\n",
    "        #DriverGain = dsettings[key][det][c]['driverGain']*4.0 #Apply Driver Gain Correction\n",
    "        conv2Amps = 1/(Rfb*DG*LoopGain*ADCperVolt) #Convert detector parameters to amplitude for trace\n",
    "        t_adc2uA[c] = conv2Amps\n",
    "        \n",
    "        for i in range(len(t_rd[det][c])):\n",
    "            temp.append(((t_rd)[det][c])*conv2Amps)\n",
    "        t_d[c] = temp\n",
    "    data[key] = t_d\n",
    "    adc2ua[key] = t_adc2uA\n",
    "    \n",
    "    print('-------- %s : Traces coverted to Amps for channel -------------'%(key))\n",
    "print('all done')"
   ]
  },
  {
   "cell_type": "code",
   "execution_count": 57,
   "metadata": {},
   "outputs": [
    {
     "data": {
      "text/plain": [
       "'07240206_1402'"
      ]
     },
     "execution_count": 57,
     "metadata": {},
     "output_type": "execute_result"
    }
   ],
   "source": [
    "(series[0])"
   ]
  },
  {
   "cell_type": "code",
   "execution_count": 58,
   "metadata": {},
   "outputs": [
    {
     "data": {
      "text/plain": [
       "{'07240206_1402': {'PA': 1.52587890625e-13,\n",
       "  'PB': 1.52587890625e-13,\n",
       "  'PC': 1.52587890625e-13,\n",
       "  'PD': 1.52587890625e-13}}"
      ]
     },
     "execution_count": 58,
     "metadata": {},
     "output_type": "execute_result"
    }
   ],
   "source": [
    "adc2ua"
   ]
  },
  {
   "cell_type": "code",
   "execution_count": 59,
   "metadata": {},
   "outputs": [
    {
     "data": {
      "text/plain": [
       "{'QI': array([32226, 32226, 32225, 32225, 32225, 32221, 32223, 32220, 32224,\n",
       "        32227, 32227, 32224, 32222, 32227, 32227, 32220, 32227, 32223,\n",
       "        32226, 32220, 32225, 32231, 32225, 32222, 32225, 32219, 32231,\n",
       "        32220, 32227, 32224, 32225, 32224, 32222, 32227, 32224, 32225,\n",
       "        32225, 32225, 32228, 32223, 32219, 32222, 32225, 32224, 32222,\n",
       "        32227, 32219, 32223, 32222, 32222, 32225, 32226, 32220, 32224,\n",
       "        32227, 32223, 32222, 32223, 32225, 32223, 32222, 32221, 32227,\n",
       "        32230], dtype=uint16),\n",
       " 'QO': array([33386, 33386, 33384, 33379, 33383, 33383, 33381, 33379, 33388,\n",
       "        33386, 33383, 33383, 33374, 33380, 33386, 33381, 33385, 33381,\n",
       "        33382, 33376, 33383, 33388, 33384, 33382, 33383, 33372, 33393,\n",
       "        33374, 33383, 33381, 33382, 33386, 33386, 33383, 33384, 33389,\n",
       "        33387, 33388, 33389, 33383, 33381, 33382, 33381, 33385, 33380,\n",
       "        33389, 33378, 33384, 33385, 33384, 33386, 33388, 33383, 33382,\n",
       "        33385, 33385, 33386, 33382, 33390, 33381, 33379, 33377, 33386,\n",
       "        33387], dtype=uint16),\n",
       " 'PA': array([3194, 2946, 2946, ..., 2941, 2940, 2941], dtype=uint16),\n",
       " 'PB': array([6227, 6230, 6231, ..., 6225, 6226, 6229], dtype=uint16),\n",
       " 'PC': array([7620, 7618, 7621, ..., 7619, 7620, 7619], dtype=uint16),\n",
       " 'PD': array([8532, 8531, 8529, ..., 8531, 8531, 8534], dtype=uint16)}"
      ]
     },
     "execution_count": 59,
     "metadata": {},
     "output_type": "execute_result"
    }
   ],
   "source": [
    "dump_data[0]['Z1']"
   ]
  },
  {
   "cell_type": "code",
   "execution_count": 60,
   "metadata": {},
   "outputs": [
    {
     "name": "stdout",
     "output_type": "stream",
     "text": [
      "Done\n"
     ]
    }
   ],
   "source": [
    "\n",
    "'''\n",
    "  Compute pedestal subtracted traces\n",
    "'''\n",
    "\n",
    "traces_ped_sub = {}\n",
    "for idx, key in enumerate(series):\n",
    "    t = {}\n",
    "    for c in channels:\n",
    "        if(c == 'PT'  or c=='PF'):\n",
    "            continue\n",
    "        if(det=='Z3' and c == 'PAS1'):\n",
    "            continue\n",
    "        tt = []\n",
    "        for i in range(len(event_numbers)):\n",
    "            pedestal = proc_bs[key][i][c][0] * adc2ua[key][c]\n",
    "            #ttt = data[key][c][i] - pedestal\n",
    "            tt.append(data[key][c][i] - pedestal)\n",
    "        t[c] = tt\n",
    "    traces_ped_sub[key] = t\n",
    "print('Done')"
   ]
  },
  {
   "cell_type": "code",
   "execution_count": 61,
   "metadata": {},
   "outputs": [
    {
     "data": {
      "text/plain": [
       "[<matplotlib.lines.Line2D at 0x7f4b48980580>]"
      ]
     },
     "execution_count": 61,
     "metadata": {},
     "output_type": "execute_result"
    },
    {
     "data": {
      "image/png": "[encoded data removed]",
      "text/plain": [
       "<Figure size 640x480 with 1 Axes>"
      ]
     },
     "metadata": {},
     "output_type": "display_data"
    }
   ],
   "source": [
    "plt.plot(traces_ped_sub['07240206_1402'][\"PB\"][0])"
   ]
  },
  {
   "cell_type": "code",
   "execution_count": 62,
   "metadata": {},
   "outputs": [
    {
     "name": "stdout",
     "output_type": "stream",
     "text": [
      "Done\n"
     ]
    }
   ],
   "source": [
    "'''\n",
    "    Construct PT traces\n",
    "'''\n",
    "\n",
    "\n",
    "for idx, key in enumerate(series):\n",
    "    \n",
    "    tt = []\n",
    "    for i in range(len(event_numbers)):\n",
    "        t = np.zeros(bins)\n",
    "        for c in channels:\n",
    "            if(c == 'PT'  or c=='PF'):\n",
    "                continue\n",
    "            if(det=='Z3' and c=='PAS1'):\n",
    "                continue\n",
    "            t += traces_ped_sub[key][c][i]\n",
    "        tt.append(t)\n",
    "    \n",
    "    traces_ped_sub[key]['PT'] = tt\n",
    "print('Done')"
   ]
  },
  {
   "cell_type": "code",
   "execution_count": 63,
   "metadata": {},
   "outputs": [
    {
     "name": "stdout",
     "output_type": "stream",
     "text": [
      "done!\n"
     ]
    }
   ],
   "source": [
    "'''\n",
    "    compute template for each event, each channel : time-shifted, scaled by ofamp\n",
    "'''\n",
    "\n",
    "template_ss = {} # per series , per channel, per event\n",
    "for idx, key in enumerate(series):\n",
    "    t = {}\n",
    "    for c in channels:\n",
    "        if(det=='Z3' and c=='PAS1'):\n",
    "            continue\n",
    "        tt = []\n",
    "        for i in range(len(event_numbers)):\n",
    "            shift = int((proc_delay[key][i][c]*1e6)/trace_length)\n",
    "            scale = proc_of[key][i][c]\n",
    "            ttt = np.array(template[key][c])\n",
    "            ttt = np.roll(ttt,shift)\n",
    "            ttt *= scale\n",
    "            tt.append(ttt)\n",
    "        t[c] = tt\n",
    "    template_ss[key] = t\n",
    "\n",
    "print('done!')"
   ]
  },
  {
   "cell_type": "code",
   "execution_count": 64,
   "metadata": {},
   "outputs": [],
   "source": [
    "'''\n",
    "    Low pass filter\n",
    "'''\n",
    "\n",
    "import scipy.optimize as optimize\n",
    "from scipy.signal import firwin, lfilter\n",
    "def low_pass_filter(signal, cutoff_frequency, sampling_rate, filter_order=100):\n",
    "    # Calculate the Nyquist frequency\n",
    "    nyquist_frequency = 0.5 * sampling_rate\n",
    "\n",
    "    # Normalize the cutoff frequency\n",
    "    normalized_cutoff = cutoff_frequency / nyquist_frequency\n",
    "\n",
    "    # Design a low-pass FIR filter\n",
    "    filter_coefficients = firwin(filter_order, normalized_cutoff, window='hamming')\n",
    "\n",
    "    # Apply the filter to the signal using lfilter\n",
    "    filtered_signal = lfilter(filter_coefficients, 1.0, signal)\n",
    "\n",
    "    return filtered_signal\n"
   ]
  },
  {
   "cell_type": "code",
   "execution_count": 65,
   "metadata": {},
   "outputs": [],
   "source": [
    "'''\n",
    "    Cosmetics\n",
    "'''\n",
    "\n",
    "color_p = {\n",
    "    'PA' : 'red',\n",
    "    'PB' : 'orange',\n",
    "    'PC' : 'brown',\n",
    "    'PD' : 'blue',\n",
    "    'PE' : 'cyan',\n",
    "    'PF' : 'green',\n",
    "    'PAS2' : 'red',\n",
    "    'PBS2' : 'orange',\n",
    "    'PCS2' : 'brown',\n",
    "    'PDS2' : 'blue',\n",
    "    'PES2' : 'cyan',\n",
    "    'PFS2' : 'green',\n",
    "    'PT'   : 'black'\n",
    "    \n",
    "}\n",
    "style_p = {\n",
    "    'PA' : '-',\n",
    "    'PB' : '-',\n",
    "    'PC' : '-',\n",
    "    'PD' : '-',\n",
    "    'PE' : '-',\n",
    "    'PF' : '-',\n",
    "    'PAS2' : '--',\n",
    "    'PBS2' : '--',\n",
    "    'PCS2' : '--',\n",
    "    'PDS2' : '--',\n",
    "    'PES2' : '--',\n",
    "    'PFS2' : '--',\n",
    "    'PT'   : '-'\n",
    "}\n",
    "# cycler = plt.cycler(linestyle=['-', '-', '-', '-', '-', '-', '--','--','--','--','--','--'],\n",
    "#                     color=['maroon', 'orange', 'yellow', 'black', 'blue', 'green', 'maroon', 'orange', 'yellow', 'black', 'blue', 'green'],\n",
    "# )"
   ]
  },
  {
   "cell_type": "code",
   "execution_count": 76,
   "metadata": {},
   "outputs": [
    {
     "data": {
      "image/png": "[encoded data removed]",
      "text/plain": [
       "<Figure size 640x480 with 1 Axes>"
      ]
     },
     "metadata": {},
     "output_type": "display_data"
    }
   ],
   "source": [
    "\n",
    "idx = 0\n",
    "high_cutoff, fs, order = 1000, 125000, 1\n",
    "plt.figure()\n",
    "#def low_pass_filter(signal, cutoff_frequency, sampling_rate, filter_order=100):\n",
    "for c in channels:\n",
    "#     if(c=='PT'):\n",
    "#         continue\n",
    "    if(c!='PB'):\n",
    "         continue\n",
    "\n",
    "    if(det == 'Z3' and c == 'PAS1'):\n",
    "        continue\n",
    "   \n",
    "#     trace = data[key][c][idx]\n",
    "#     bs_corrected = trace - np.mean(trace[0:10000])\n",
    "    bs_corrected = traces_ped_sub[key][c][idx]\n",
    "    lp_filtered = low_pass_filter(bs_corrected,high_cutoff,fs,order)\n",
    "    #lp_filtered = (bs_corrected)\n",
    "    \n",
    "    plt.plot((lp_filtered)*1e6,label=c,color=color_p[c],linestyle=style_p[c])\n",
    "    #plt.title(key+', '+det+', event #%d'%(raw_data[key]['PA'][idx]['event']['EventNumber']))\n",
    "plt.legend()\n",
    "#plt.xlim(15500,17000)\n",
    "#plt.xlim(15000,18000)\n",
    "plt.ylabel('uA')\n",
    "plt.xlabel('Time bin')\n",
    "#plt.ylim(-0.02,0.14)\n",
    "plt.show()"
   ]
  },
  {
   "cell_type": "code",
   "execution_count": 23,
   "metadata": {},
   "outputs": [
    {
     "name": "stdout",
     "output_type": "stream",
     "text": [
      "9.114887841901639e-07\n"
     ]
    },
    {
     "data": {
      "image/png": "[encoded data removed]",
      "text/plain": [
       "<Figure size 432x288 with 1 Axes>"
      ]
     },
     "metadata": {
      "needs_background": "light"
     },
     "output_type": "display_data"
    }
   ],
   "source": [
    "\n",
    "idx = 0\n",
    "high_cutoff, fs, order = 1000, 625000, 10\n",
    "plt.figure()\n",
    "#def low_pass_filter(signal, cutoff_frequency, sampling_rate, filter_order=100):\n",
    "for c in channels:\n",
    "#     if(c=='PT'):\n",
    "#         continue\n",
    "    if(c!='PB'):\n",
    "         continue\n",
    "\n",
    "    if(det == 'Z3' and c == 'PAS1'):\n",
    "        continue\n",
    "   \n",
    "#     trace = data[key][c][idx]\n",
    "#     bs_corrected = trace - np.mean(trace[0:10000])\n",
    "    bs_corrected = traces_ped_sub[key][c][idx]\n",
    "    lp_filtered = low_pass_filter(bs_corrected,high_cutoff,fs,order)\n",
    "    #lp_filtered = (bs_corrected)\n",
    "    print(max(lp_filtered))\n",
    "    lp_filtered = lp_filtered/max(lp_filtered)\n",
    "    plt.plot((lp_filtered),label=c,color=color_p[c],linestyle=style_p[c])\n",
    "    plt.title(key+', '+det+', event #%d'%(raw_data[key]['PFS1'][idx]['event']['EventNumber']))\n",
    "plt.legend()\n",
    "plt.xlim(15500,17000)\n",
    "#plt.xlim(15000,18000)\n",
    "plt.ylabel('Normalized')\n",
    "plt.xlabel('Time bin')\n",
    "#plt.ylim(-0.02,0.14)\n",
    "plt.show()"
   ]
  },
  {
   "cell_type": "code",
   "execution_count": 117,
   "metadata": {},
   "outputs": [
    {
     "data": {
      "image/png": "[encoded data removed]",
      "text/plain": [
       "<Figure size 432x288 with 1 Axes>"
      ]
     },
     "metadata": {
      "needs_background": "light"
     },
     "output_type": "display_data"
    }
   ],
   "source": [
    "\n",
    "idx = 2\n",
    "high_cutoff, fs, order = 1000, 625000, 10\n",
    "plt.figure()\n",
    "#def low_pass_filter(signal, cutoff_frequency, sampling_rate, filter_order=100):\n",
    "for c in channels:\n",
    "    if(c!='PT'):\n",
    "        continue\n",
    "   \n",
    "#     trace = data[key][c][idx]\n",
    "#     bs_corrected = trace - np.mean(trace[0:10000])\n",
    "    bs_corrected = traces_ped_sub[key][c][idx]\n",
    "    #lp_filtered = low_pass_filter(bs_corrected,high_cutoff,fs,order)\n",
    "    lp_filtered = (bs_corrected)\n",
    "    \n",
    "    plt.plot((lp_filtered)*1e6,label=c,color=color_p[c],linestyle=style_p[c])\n",
    "    plt.title(key+', '+det+', event #%d'%(raw_data[key]['PFS1'][idx]['event']['EventNumber']))\n",
    "plt.legend()\n",
    "plt.xlim(15500,17000)\n",
    "#plt.xlim(15000,18000)\n",
    "plt.ylabel('uA')\n",
    "#plt.ylim(-0.02,0.14)\n",
    "plt.show()"
   ]
  },
  {
   "cell_type": "code",
   "execution_count": 33,
   "metadata": {},
   "outputs": [
    {
     "data": {
      "text/plain": [
       "[<matplotlib.lines.Line2D at 0x7ff9677b5d50>]"
      ]
     },
     "execution_count": 33,
     "metadata": {},
     "output_type": "execute_result"
    },
    {
     "data": {
      "image/png": "[encoded data removed]",
      "text/plain": [
       "<Figure size 432x288 with 1 Axes>"
      ]
     },
     "metadata": {
      "needs_background": "light"
     },
     "output_type": "display_data"
    }
   ],
   "source": [
    "plt.plot(data['23231219_184002']['PBS1'][0])"
   ]
  },
  {
   "cell_type": "code",
   "execution_count": 40,
   "metadata": {},
   "outputs": [
    {
     "data": {
      "text/plain": [
       "152887"
      ]
     },
     "execution_count": 40,
     "metadata": {},
     "output_type": "execute_result"
    }
   ],
   "source": [
    "raw_data['23231219_184002']['PBS1'][idx]['event']['EventNumber']"
   ]
  },
  {
   "cell_type": "code",
   "execution_count": 82,
   "metadata": {},
   "outputs": [
    {
     "data": {
      "text/plain": [
       "[<matplotlib.lines.Line2D at 0x7ff9658fbc50>]"
      ]
     },
     "execution_count": 82,
     "metadata": {},
     "output_type": "execute_result"
    },
    {
     "data": {
      "image/png": "[encoded data removed]",
      "text/plain": [
       "<Figure size 432x288 with 1 Axes>"
      ]
     },
     "metadata": {
      "needs_background": "light"
     },
     "output_type": "display_data"
    }
   ],
   "source": [
    "plt.plot(template_ss['23231219_184002']['PT'][2])\n"
   ]
  },
  {
   "cell_type": "code",
   "execution_count": 77,
   "metadata": {},
   "outputs": [
    {
     "data": {
      "image/png": "[encoded data removed]",
      "text/plain": [
       "<Figure size 640x480 with 1 Axes>"
      ]
     },
     "metadata": {},
     "output_type": "display_data"
    }
   ],
   "source": [
    "idx = 0\n",
    "key = series[0]\n",
    "high_cutoff, fs, order = 1000, 625000, 10\n",
    "plt.figure()\n",
    "c = 'PB'\n",
    "bs_corrected = traces_ped_sub[key][c][idx]\n",
    "lp_filtered = (bs_corrected)\n",
    "temp = template_ss[key][c][idx]\n",
    "plt.plot((lp_filtered)*1e6,label=c,color='black',linestyle='-')\n",
    "plt.plot((temp)*1e6,color='red',linestyle='--',label='Template')\n",
    "#plt.title(key+', '+det+', event #%d'%(raw_data[key]['PFS1'][idx]['event']['EventNumber']))\n",
    "\n",
    "plt.legend()\n",
    "#plt.xlim(15500,18000)\n",
    "#plt.xlim(15000,18000)\n",
    "plt.ylabel('uA')\n",
    "#plt.ylim(-0.02,0.14)\n",
    "plt.show()"
   ]
  },
  {
   "cell_type": "code",
   "execution_count": 126,
   "metadata": {},
   "outputs": [
    {
     "name": "stdout",
     "output_type": "stream",
     "text": [
      "./plots/traces/Z1/Event0/PT.png\n",
      "./plots/traces/Z1/Event0/PAS1.png\n",
      "./plots/traces/Z1/Event0/PBS1.png\n",
      "./plots/traces/Z1/Event0/PCS1.png\n",
      "./plots/traces/Z1/Event0/PDS1.png\n",
      "./plots/traces/Z1/Event0/PES1.png\n",
      "./plots/traces/Z1/Event0/PFS1.png\n",
      "./plots/traces/Z1/Event0/PAS2.png\n",
      "./plots/traces/Z1/Event0/PBS2.png\n",
      "./plots/traces/Z1/Event0/PCS2.png\n",
      "./plots/traces/Z1/Event0/PDS2.png\n",
      "./plots/traces/Z1/Event0/PES2.png\n",
      "./plots/traces/Z1/Event0/PFS2.png\n",
      "./plots/traces/Z1/Event1/PT.png\n",
      "./plots/traces/Z1/Event1/PAS1.png\n",
      "./plots/traces/Z1/Event1/PBS1.png\n",
      "./plots/traces/Z1/Event1/PCS1.png\n",
      "./plots/traces/Z1/Event1/PDS1.png\n",
      "./plots/traces/Z1/Event1/PES1.png\n",
      "./plots/traces/Z1/Event1/PFS1.png\n",
      "./plots/traces/Z1/Event1/PAS2.png\n",
      "./plots/traces/Z1/Event1/PBS2.png\n",
      "./plots/traces/Z1/Event1/PCS2.png\n",
      "./plots/traces/Z1/Event1/PDS2.png\n",
      "./plots/traces/Z1/Event1/PES2.png\n",
      "./plots/traces/Z1/Event1/PFS2.png\n",
      "./plots/traces/Z1/Event2/PT.png\n",
      "./plots/traces/Z1/Event2/PAS1.png\n",
      "./plots/traces/Z1/Event2/PBS1.png\n",
      "./plots/traces/Z1/Event2/PCS1.png\n",
      "./plots/traces/Z1/Event2/PDS1.png\n",
      "./plots/traces/Z1/Event2/PES1.png\n",
      "./plots/traces/Z1/Event2/PFS1.png\n",
      "./plots/traces/Z1/Event2/PAS2.png\n",
      "./plots/traces/Z1/Event2/PBS2.png\n",
      "./plots/traces/Z1/Event2/PCS2.png\n",
      "./plots/traces/Z1/Event2/PDS2.png\n",
      "./plots/traces/Z1/Event2/PES2.png\n",
      "./plots/traces/Z1/Event2/PFS2.png\n",
      "./plots/traces/Z1/Event3/PT.png\n",
      "./plots/traces/Z1/Event3/PAS1.png\n",
      "./plots/traces/Z1/Event3/PBS1.png\n",
      "./plots/traces/Z1/Event3/PCS1.png\n",
      "./plots/traces/Z1/Event3/PDS1.png\n",
      "./plots/traces/Z1/Event3/PES1.png\n",
      "./plots/traces/Z1/Event3/PFS1.png\n",
      "./plots/traces/Z1/Event3/PAS2.png\n",
      "./plots/traces/Z1/Event3/PBS2.png\n",
      "./plots/traces/Z1/Event3/PCS2.png\n",
      "./plots/traces/Z1/Event3/PDS2.png\n",
      "./plots/traces/Z1/Event3/PES2.png\n",
      "./plots/traces/Z1/Event3/PFS2.png\n",
      "./plots/traces/Z1/Event4/PT.png\n",
      "./plots/traces/Z1/Event4/PAS1.png\n",
      "./plots/traces/Z1/Event4/PBS1.png\n",
      "./plots/traces/Z1/Event4/PCS1.png\n",
      "./plots/traces/Z1/Event4/PDS1.png\n",
      "./plots/traces/Z1/Event4/PES1.png\n",
      "./plots/traces/Z1/Event4/PFS1.png\n",
      "./plots/traces/Z1/Event4/PAS2.png\n",
      "./plots/traces/Z1/Event4/PBS2.png\n",
      "./plots/traces/Z1/Event4/PCS2.png\n",
      "./plots/traces/Z1/Event4/PDS2.png\n",
      "./plots/traces/Z1/Event4/PES2.png\n",
      "./plots/traces/Z1/Event4/PFS2.png\n",
      "./plots/traces/Z1/Event5/PT.png\n",
      "./plots/traces/Z1/Event5/PAS1.png\n",
      "./plots/traces/Z1/Event5/PBS1.png\n",
      "./plots/traces/Z1/Event5/PCS1.png\n",
      "./plots/traces/Z1/Event5/PDS1.png\n",
      "./plots/traces/Z1/Event5/PES1.png\n",
      "./plots/traces/Z1/Event5/PFS1.png\n",
      "./plots/traces/Z1/Event5/PAS2.png\n",
      "./plots/traces/Z1/Event5/PBS2.png\n",
      "./plots/traces/Z1/Event5/PCS2.png\n",
      "./plots/traces/Z1/Event5/PDS2.png\n",
      "./plots/traces/Z1/Event5/PES2.png\n",
      "./plots/traces/Z1/Event5/PFS2.png\n",
      "./plots/traces/Z1/Event6/PT.png\n",
      "./plots/traces/Z1/Event6/PAS1.png\n",
      "./plots/traces/Z1/Event6/PBS1.png\n",
      "./plots/traces/Z1/Event6/PCS1.png\n",
      "./plots/traces/Z1/Event6/PDS1.png\n",
      "./plots/traces/Z1/Event6/PES1.png\n",
      "./plots/traces/Z1/Event6/PFS1.png\n",
      "./plots/traces/Z1/Event6/PAS2.png\n",
      "./plots/traces/Z1/Event6/PBS2.png\n",
      "./plots/traces/Z1/Event6/PCS2.png\n",
      "./plots/traces/Z1/Event6/PDS2.png\n",
      "./plots/traces/Z1/Event6/PES2.png\n",
      "./plots/traces/Z1/Event6/PFS2.png\n",
      "./plots/traces/Z1/Event7/PT.png\n",
      "./plots/traces/Z1/Event7/PAS1.png\n",
      "./plots/traces/Z1/Event7/PBS1.png\n",
      "./plots/traces/Z1/Event7/PCS1.png\n",
      "./plots/traces/Z1/Event7/PDS1.png\n",
      "./plots/traces/Z1/Event7/PES1.png\n",
      "./plots/traces/Z1/Event7/PFS1.png\n",
      "./plots/traces/Z1/Event7/PAS2.png\n",
      "./plots/traces/Z1/Event7/PBS2.png\n",
      "./plots/traces/Z1/Event7/PCS2.png\n",
      "./plots/traces/Z1/Event7/PDS2.png\n",
      "./plots/traces/Z1/Event7/PES2.png\n",
      "./plots/traces/Z1/Event7/PFS2.png\n",
      "./plots/traces/Z1/Event8/PT.png\n",
      "./plots/traces/Z1/Event8/PAS1.png\n",
      "./plots/traces/Z1/Event8/PBS1.png\n",
      "./plots/traces/Z1/Event8/PCS1.png\n",
      "./plots/traces/Z1/Event8/PDS1.png\n",
      "./plots/traces/Z1/Event8/PES1.png\n",
      "./plots/traces/Z1/Event8/PFS1.png\n",
      "./plots/traces/Z1/Event8/PAS2.png\n",
      "./plots/traces/Z1/Event8/PBS2.png\n",
      "./plots/traces/Z1/Event8/PCS2.png\n",
      "./plots/traces/Z1/Event8/PDS2.png\n",
      "./plots/traces/Z1/Event8/PES2.png\n",
      "./plots/traces/Z1/Event8/PFS2.png\n",
      "./plots/traces/Z1/Event9/PT.png\n",
      "./plots/traces/Z1/Event9/PAS1.png\n",
      "./plots/traces/Z1/Event9/PBS1.png\n",
      "./plots/traces/Z1/Event9/PCS1.png\n",
      "./plots/traces/Z1/Event9/PDS1.png\n",
      "./plots/traces/Z1/Event9/PES1.png\n",
      "./plots/traces/Z1/Event9/PFS1.png\n",
      "./plots/traces/Z1/Event9/PAS2.png\n",
      "./plots/traces/Z1/Event9/PBS2.png\n",
      "./plots/traces/Z1/Event9/PCS2.png\n",
      "./plots/traces/Z1/Event9/PDS2.png\n",
      "./plots/traces/Z1/Event9/PES2.png\n",
      "./plots/traces/Z1/Event9/PFS2.png\n"
     ]
    }
   ],
   "source": [
    "'''\n",
    "    Save tra\n",
    "'''\n",
    "key = series[0]\n",
    "save=True\n",
    "for idx in range(len(event_numbers)):\n",
    "    for c in channels:\n",
    "        if(det=='Z3' and c == 'PAS1'):\n",
    "            continue\n",
    "        #plt.ioff()\n",
    "        plt.figure()\n",
    "        \n",
    "        bs_corrected = traces_ped_sub[key][c][idx]\n",
    "        lp_filtered = (bs_corrected)\n",
    "        temp = template_ss[key][c][idx]\n",
    "        plt.plot((lp_filtered)*1e6,label=c,color='black',linestyle='-')\n",
    "        plt.plot((temp)*1e6,color='red',linestyle='--',label='Template')\n",
    "        plt.title(key+', '+det+', event #%d'%(raw_data[key]['PFS1'][idx]['event']['EventNumber']))\n",
    "\n",
    "        plt.legend()\n",
    "        plt.xlim(15500,18000)\n",
    "        plt.ylabel('uA')\n",
    "        #plt.show()\n",
    "        savename = './plots/traces/%s/Event%d/%s.png'%(det,idx,c)\n",
    "        if(save):\n",
    "            plt.savefig(savename)\n",
    "            print(savename)\n",
    "        plt.close()\n",
    "        \n"
   ]
  },
  {
   "cell_type": "code",
   "execution_count": null,
   "metadata": {},
   "outputs": [],
   "source": []
  }
 ],
 "metadata": {
  "kernelspec": {
   "display_name": "V04-12",
   "language": "python",
   "name": "mykernel"
  },
  "language_info": {
   "codemirror_mode": {
    "name": "ipython",
    "version": 3
   },
   "file_extension": ".py",
   "mimetype": "text/x-python",
   "name": "python",
   "nbconvert_exporter": "python",
   "pygments_lexer": "ipython3",
   "version": "3.8.10"
  }
 },
 "nbformat": 4,
 "nbformat_minor": 4
}
